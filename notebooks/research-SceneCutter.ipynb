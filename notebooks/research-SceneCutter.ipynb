{
 "cells": [
  {
   "cell_type": "code",
   "execution_count": 1,
   "metadata": {},
   "outputs": [
    {
     "ename": "ModuleNotFoundError",
     "evalue": "OpenCV could not be found, try installing opencv-python:\n\npip install opencv-python",
     "output_type": "error",
     "traceback": [
      "\u001b[0;31m---------------------------------------------------------------------------\u001b[0m",
      "\u001b[0;31mModuleNotFoundError\u001b[0m                       Traceback (most recent call last)",
      "File \u001b[0;32m~/Documents/Projects/Developments/NarrativeLens/NarrativeLens/lib/python3.10/site-packages/scenedetect/__init__.py:25\u001b[0m\n\u001b[1;32m     24\u001b[0m \u001b[38;5;28;01mtry\u001b[39;00m:\n\u001b[0;32m---> 25\u001b[0m     \u001b[38;5;28;01mimport\u001b[39;00m\u001b[38;5;250m \u001b[39m\u001b[38;5;21;01mcv2\u001b[39;00m\u001b[38;5;250m \u001b[39m\u001b[38;5;28;01mas\u001b[39;00m\u001b[38;5;250m \u001b[39m\u001b[38;5;21;01m_\u001b[39;00m\n\u001b[1;32m     26\u001b[0m \u001b[38;5;28;01mexcept\u001b[39;00m \u001b[38;5;167;01mModuleNotFoundError\u001b[39;00m \u001b[38;5;28;01mas\u001b[39;00m ex:\n",
      "\u001b[0;31mModuleNotFoundError\u001b[0m: No module named 'cv2'",
      "\nThe above exception was the direct cause of the following exception:\n",
      "\u001b[0;31mModuleNotFoundError\u001b[0m                       Traceback (most recent call last)",
      "Cell \u001b[0;32mIn[1], line 2\u001b[0m\n\u001b[1;32m      1\u001b[0m \u001b[38;5;66;03m# Import PySceneDetect\u001b[39;00m\n\u001b[0;32m----> 2\u001b[0m \u001b[38;5;28;01mfrom\u001b[39;00m\u001b[38;5;250m \u001b[39m\u001b[38;5;21;01mscenedetect\u001b[39;00m\u001b[38;5;250m \u001b[39m\u001b[38;5;28;01mimport\u001b[39;00m VideoManager, SceneManager\n\u001b[1;32m      3\u001b[0m \u001b[38;5;28;01mfrom\u001b[39;00m\u001b[38;5;250m \u001b[39m\u001b[38;5;21;01mscenedetect\u001b[39;00m\u001b[38;5;21;01m.\u001b[39;00m\u001b[38;5;21;01mdetectors\u001b[39;00m\u001b[38;5;250m \u001b[39m\u001b[38;5;28;01mimport\u001b[39;00m ContentDetector\n\u001b[1;32m      4\u001b[0m \u001b[38;5;28;01mfrom\u001b[39;00m\u001b[38;5;250m \u001b[39m\u001b[38;5;21;01mscenedetect\u001b[39;00m\u001b[38;5;21;01m.\u001b[39;00m\u001b[38;5;21;01mvideo_splitter\u001b[39;00m\u001b[38;5;250m \u001b[39m\u001b[38;5;28;01mimport\u001b[39;00m split_video_ffmpeg\n",
      "File \u001b[0;32m~/Documents/Projects/Developments/NarrativeLens/NarrativeLens/lib/python3.10/site-packages/scenedetect/__init__.py:27\u001b[0m\n\u001b[1;32m     25\u001b[0m     \u001b[38;5;28;01mimport\u001b[39;00m\u001b[38;5;250m \u001b[39m\u001b[38;5;21;01mcv2\u001b[39;00m\u001b[38;5;250m \u001b[39m\u001b[38;5;28;01mas\u001b[39;00m\u001b[38;5;250m \u001b[39m\u001b[38;5;21;01m_\u001b[39;00m\n\u001b[1;32m     26\u001b[0m \u001b[38;5;28;01mexcept\u001b[39;00m \u001b[38;5;167;01mModuleNotFoundError\u001b[39;00m \u001b[38;5;28;01mas\u001b[39;00m ex:\n\u001b[0;32m---> 27\u001b[0m     \u001b[38;5;28;01mraise\u001b[39;00m \u001b[38;5;167;01mModuleNotFoundError\u001b[39;00m(\n\u001b[1;32m     28\u001b[0m         \u001b[38;5;124m\"\u001b[39m\u001b[38;5;124mOpenCV could not be found, try installing opencv-python:\u001b[39m\u001b[38;5;130;01m\\n\u001b[39;00m\u001b[38;5;130;01m\\n\u001b[39;00m\u001b[38;5;124mpip install opencv-python\u001b[39m\u001b[38;5;124m\"\u001b[39m,\n\u001b[1;32m     29\u001b[0m         name\u001b[38;5;241m=\u001b[39m\u001b[38;5;124m\"\u001b[39m\u001b[38;5;124mcv2\u001b[39m\u001b[38;5;124m\"\u001b[39m,\n\u001b[1;32m     30\u001b[0m     ) \u001b[38;5;28;01mfrom\u001b[39;00m\u001b[38;5;250m \u001b[39m\u001b[38;5;21;01mex\u001b[39;00m\n\u001b[1;32m     32\u001b[0m \u001b[38;5;66;03m# Commonly used classes/functions exported under the `scenedetect` namespace for brevity.\u001b[39;00m\n\u001b[1;32m     33\u001b[0m \u001b[38;5;66;03m# Note that order of importants is important!\u001b[39;00m\n\u001b[1;32m     34\u001b[0m \u001b[38;5;28;01mfrom\u001b[39;00m\u001b[38;5;250m \u001b[39m\u001b[38;5;21;01mscenedetect\u001b[39;00m\u001b[38;5;21;01m.\u001b[39;00m\u001b[38;5;21;01mplatform\u001b[39;00m\u001b[38;5;250m \u001b[39m\u001b[38;5;28;01mimport\u001b[39;00m init_logger  \u001b[38;5;66;03m# noqa: I001\u001b[39;00m\n",
      "\u001b[0;31mModuleNotFoundError\u001b[0m: OpenCV could not be found, try installing opencv-python:\n\npip install opencv-python"
     ]
    }
   ],
   "source": [
    "# Import PySceneDetect\n",
    "from scenedetect import VideoManager, SceneManager\n",
    "from scenedetect.detectors import ContentDetector\n",
    "from scenedetect.video_splitter import split_video_ffmpeg\n",
    "import os"
   ]
  },
  {
   "cell_type": "code",
   "execution_count": null,
   "metadata": {},
   "outputs": [],
   "source": [
    "# Example video path\n",
    "video_path = \"your_video.mp4\"\n",
    "\n",
    "# Create a VideoManager and SceneManager\n",
    "video_manager = VideoManager([video_path])\n",
    "scene_manager = SceneManager()\n",
    "\n",
    "# Add a ContentDetector with a threshold.\n",
    "# The threshold value determines sensitivity to scene changes:\n",
    "#   - Higher threshold --> fewer scenes\n",
    "#   - Lower threshold --> more scenes\n",
    "scene_manager.add_detector(ContentDetector(threshold=30.0))\n",
    "\n",
    "# Start the video manager & perform scene detection\n",
    "video_manager.set_downscale_factor()  # For faster processing\n",
    "video_manager.start()\n",
    "\n",
    "scene_manager.detect_scenes(frame_source=video_manager)\n",
    "\n",
    "# Obtain list of detected scenes\n",
    "scene_list = scene_manager.get_scene_list()\n",
    "\n",
    "# Print out start/end timecodes for each scene\n",
    "for i, scene in enumerate(scene_list):\n",
    "    start_time = scene[0].get_timecode()\n",
    "    end_time = scene[1].get_timecode()\n",
    "    print(f\"Scene {i+1}: Start {start_time}, End: {end_time}\")\n",
    "\n",
    "# Cleanup\n",
    "video_manager.release()"
   ]
  }
 ],
 "metadata": {
  "kernelspec": {
   "display_name": "NarrativeLens",
   "language": "python",
   "name": "python3"
  },
  "language_info": {
   "codemirror_mode": {
    "name": "ipython",
    "version": 3
   },
   "file_extension": ".py",
   "mimetype": "text/x-python",
   "name": "python",
   "nbconvert_exporter": "python",
   "pygments_lexer": "ipython3",
   "version": "3.10.13"
  }
 },
 "nbformat": 4,
 "nbformat_minor": 2
}
