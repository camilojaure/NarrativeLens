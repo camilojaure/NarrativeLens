{
 "cells": [
  {
   "cell_type": "code",
   "execution_count": null,
   "metadata": {},
   "outputs": [],
   "source": [
    "from langchain.prompts import PromptTemplate\n",
    "from langchain.chat_models import ChatOpenAI  # Replace with Gemini if API accessible\n",
    "from langchain.output_parsers import StructuredOutputParser\n",
    "from langsmith import LangSmithTracer"
   ]
  },
  {
   "cell_type": "code",
   "execution_count": null,
   "metadata": {},
   "outputs": [],
   "source": [
    "# Define the prompt template\n",
    "template = \"\"\"\n",
    "Analyze the following video ad and extract its narrative structure. \n",
    "Provide the output in JSON format with fields: Ad Name, Scene Number, Start Time, End Time, Scene Duration, Narrative Role, Visual Elements, Voice-over Tone, On-screen Text, Pacing.\n",
    "\n",
    "Ad Name: {ad_name}\n",
    "\"\"\""
   ]
  },
  {
   "cell_type": "code",
   "execution_count": null,
   "metadata": {},
   "outputs": [],
   "source": [
    "\n",
    "prompt = PromptTemplate(input_variables=[\"ad_name\"], template=template)\n",
    "\n",
    "# Define the expected output schema\n",
    "parser = StructuredOutputParser.from_names_and_descriptions({\n",
    "    \"Ad Name\": \"Name of the ad\",\n",
    "    \"Scene Number\": \"Number of the scene\",\n",
    "    \"Start Time\": \"Start time of the scene\",\n",
    "    \"End Time\": \"End time of the scene\",\n",
    "    \"Scene Duration\": \"Duration of the scene in seconds\",\n",
    "    \"Narrative Role\": \"Narrative role such as Hook, Problem, Solution, etc.\",\n",
    "    \"Visual Elements\": \"Key visual elements present in the scene\",\n",
    "    \"Voice-over Tone\": \"Tone of the voice-over or background music\",\n",
    "    \"On-screen Text\": \"Text displayed on screen\",\n",
    "    \"Pacing\": \"Pacing of the scene\"\n",
    "})"
   ]
  },
  {
   "cell_type": "code",
   "execution_count": null,
   "metadata": {},
   "outputs": [],
   "source": [
    "\n",
    "# Initialize LangSmith for prompt tracking\n",
    "tracer = LangSmithTracer(project_name=\"NarrativeLens Analysis\")\n",
    "\n",
    "# Initialize the language model\n",
    "llm = ChatOpenAI(model_name=\"gpt-4\", temperature=0)  # Replace with Gemini API if applicable\n",
    "\n",
    "# Chain prompt to model with output parser\n",
    "chain = prompt | llm | parser\n",
    "\n",
    "# Run the analysis\n",
    "result = chain.invoke({\"ad_name\": \"PedidosYa_Carrefour_Beach.mp4\"})\n",
    "\n",
    "# Save the structured output\n",
    "import json\n",
    "with open('ad_analysis_output.json', 'w') as f:\n",
    "    json.dump(result, f, indent=4)"
   ]
  }
 ],
 "metadata": {
  "language_info": {
   "name": "python"
  }
 },
 "nbformat": 4,
 "nbformat_minor": 2
}
