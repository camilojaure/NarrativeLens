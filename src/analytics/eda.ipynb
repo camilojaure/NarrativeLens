{
 "cells": [
  {
   "cell_type": "markdown",
   "id": "87620be6",
   "metadata": {},
   "source": [
    "# Narrative Lens Exploratory Data Analysis"
   ]
  },
  {
   "cell_type": "code",
   "execution_count": 44,
   "id": "472561ef",
   "metadata": {},
   "outputs": [],
   "source": [
    "import pandas as pd\n",
    "import pymongo\n",
    "import json\n",
    "from pymongo import MongoClient\n",
    "from pymongo.errors import ConnectionFailure\n"
   ]
  },
  {
   "cell_type": "code",
   "execution_count": 45,
   "id": "ede6cabb",
   "metadata": {},
   "outputs": [
    {
     "name": "stdout",
     "output_type": "stream",
     "text": [
      "MongoDB connection successful\n"
     ]
    }
   ],
   "source": [
    "#mongo conection\n",
    "try:\n",
    "    client = MongoClient('mongodb://localhost:27017/')\n",
    "    db = client['NarrativeLens']\n",
    "    collection = db['tiktok_ads_us_toplikes']\n",
    "    print(\"MongoDB connection successful\")\n",
    "\n",
    "except ConnectionFailure as e:\n",
    "    print(f\"Could not connect to MongoDB: {e}\")\n",
    "    exit(1)\n",
    "except Exception as e:\n",
    "    print(f\"An error occurred: {e}\")\n",
    "    exit(1)"
   ]
  },
  {
   "cell_type": "code",
   "execution_count": 46,
   "id": "30ad084b",
   "metadata": {},
   "outputs": [],
   "source": [
    "# Load the mongodb collection into a pandas DataFrame\n",
    "def load_mongo_collection_to_dataframe(collection):\n",
    "    try:\n",
    "        data = list(collection.find())\n",
    "        if not data:\n",
    "            print(\"No data found in the collection.\")\n",
    "            return pd.DataFrame()\n",
    "        df = pd.DataFrame(data)\n",
    "        # Drop the '_id' column if it exists\n",
    "        if '_id' in df.columns:\n",
    "            df.drop(columns=['_id'], inplace=True)\n",
    "        return df\n",
    "    except Exception as e:\n",
    "        print(f\"An error occurred while loading data from MongoDB: {e}\")\n",
    "        return pd.DataFrame()"
   ]
  },
  {
   "cell_type": "code",
   "execution_count": 47,
   "id": "3f9fc8f9",
   "metadata": {},
   "outputs": [],
   "source": [
    "# Load the data into a DataFrame\n",
    "df = load_mongo_collection_to_dataframe(collection)\n"
   ]
  },
  {
   "cell_type": "code",
   "execution_count": 48,
   "id": "f18d1efb",
   "metadata": {},
   "outputs": [
    {
     "data": {
      "text/html": [
       "<div>\n",
       "<style scoped>\n",
       "    .dataframe tbody tr th:only-of-type {\n",
       "        vertical-align: middle;\n",
       "    }\n",
       "\n",
       "    .dataframe tbody tr th {\n",
       "        vertical-align: top;\n",
       "    }\n",
       "\n",
       "    .dataframe thead th {\n",
       "        text-align: right;\n",
       "    }\n",
       "</style>\n",
       "<table border=\"1\" class=\"dataframe\">\n",
       "  <thead>\n",
       "    <tr style=\"text-align: right;\">\n",
       "      <th></th>\n",
       "      <th>ad_title</th>\n",
       "      <th>brand_name</th>\n",
       "      <th>cost</th>\n",
       "      <th>ctr</th>\n",
       "      <th>favorite</th>\n",
       "      <th>id</th>\n",
       "      <th>industry_key</th>\n",
       "      <th>is_search</th>\n",
       "      <th>like</th>\n",
       "      <th>objective_key</th>\n",
       "      <th>tag</th>\n",
       "      <th>video_info</th>\n",
       "      <th>detail_analysis</th>\n",
       "      <th>industry</th>\n",
       "      <th>objective</th>\n",
       "      <th>scrap_datetime</th>\n",
       "      <th>video_name</th>\n",
       "      <th>creative_features</th>\n",
       "    </tr>\n",
       "  </thead>\n",
       "  <tbody>\n",
       "    <tr>\n",
       "      <th>0</th>\n",
       "      <td>Great time killer!</td>\n",
       "      <td>Survival Game Master</td>\n",
       "      <td>2</td>\n",
       "      <td>0.01</td>\n",
       "      <td>False</td>\n",
       "      <td>7132878852058906625</td>\n",
       "      <td>label_23125000000</td>\n",
       "      <td>True</td>\n",
       "      <td>38213</td>\n",
       "      <td>campaign_objective_app_install</td>\n",
       "      <td>3.0</td>\n",
       "      <td>{'vid': 'v0911dg40001cbta3ebc77u7vbp6b1gg', 'd...</td>\n",
       "      <td>This ad is using Product Review to catch audie...</td>\n",
       "      <td>{'child': {'id': 23125000000, 'value': 'Games ...</td>\n",
       "      <td>{'id': 2, 'value': 'App Installs'}</td>\n",
       "      <td>2025-04-04T17:53:16.735723</td>\n",
       "      <td>ad_23000000000_2_0_1</td>\n",
       "      <td>{'creative_theme': 'Promotional &amp; Offer-Based'...</td>\n",
       "    </tr>\n",
       "    <tr>\n",
       "      <th>1</th>\n",
       "      <td>Oddly satisfying game</td>\n",
       "      <td>Gameworld Master</td>\n",
       "      <td>2</td>\n",
       "      <td>0.01</td>\n",
       "      <td>False</td>\n",
       "      <td>7109275920046178305</td>\n",
       "      <td>label_23125000000</td>\n",
       "      <td>True</td>\n",
       "      <td>14299</td>\n",
       "      <td>campaign_objective_app_install</td>\n",
       "      <td>3.0</td>\n",
       "      <td>{'vid': 'v10033g50000caldhr3c77ub7mthrn5g', 'd...</td>\n",
       "      <td>This ad is using Strategy Focused to catch aud...</td>\n",
       "      <td>{'child': {'id': 23125000000, 'value': 'Games ...</td>\n",
       "      <td>{'id': 2, 'value': 'App Installs'}</td>\n",
       "      <td>2025-04-04T17:53:16.735723</td>\n",
       "      <td>ad_23000000000_2_1_1</td>\n",
       "      <td>{'creative_theme': 'Product-Centric', 'creativ...</td>\n",
       "    </tr>\n",
       "    <tr>\n",
       "      <th>2</th>\n",
       "      <td>My friend recommended me to play this game</td>\n",
       "      <td>Sugarcane Inc. Empire Tycoon</td>\n",
       "      <td>0</td>\n",
       "      <td>0.02</td>\n",
       "      <td>False</td>\n",
       "      <td>7077499601561305089</td>\n",
       "      <td>label_23125000000</td>\n",
       "      <td>True</td>\n",
       "      <td>2427</td>\n",
       "      <td>campaign_objective_app_install</td>\n",
       "      <td>NaN</td>\n",
       "      <td>{'vid': 'v10033g50000cfgfgl3c77u9fehpnd8g', 'd...</td>\n",
       "      <td></td>\n",
       "      <td>{'child': {'id': 23125000000, 'value': 'Games ...</td>\n",
       "      <td>{'id': 2, 'value': 'App Installs'}</td>\n",
       "      <td>2025-04-04T17:53:16.735723</td>\n",
       "      <td>ad_23000000000_2_2_1</td>\n",
       "      <td>{'creative_theme': 'Educational &amp; Explainer', ...</td>\n",
       "    </tr>\n",
       "    <tr>\n",
       "      <th>3</th>\n",
       "      <td>download now</td>\n",
       "      <td>Smart VPN - Fast, Stable</td>\n",
       "      <td>2</td>\n",
       "      <td>0.02</td>\n",
       "      <td>False</td>\n",
       "      <td>7176836203668783106</td>\n",
       "      <td>label_23125000000</td>\n",
       "      <td>True</td>\n",
       "      <td>124771</td>\n",
       "      <td>campaign_objective_app_install</td>\n",
       "      <td>3.0</td>\n",
       "      <td>{'vid': 'v10033g50000cuqnqlnog65qepkj72vg', 'd...</td>\n",
       "      <td>This ad is using Oddly Satisfying to catch aud...</td>\n",
       "      <td>{'child': {'id': 23125000000, 'value': 'Games ...</td>\n",
       "      <td>{'id': 2, 'value': 'App Installs'}</td>\n",
       "      <td>2025-04-04T17:53:16.735723</td>\n",
       "      <td>ad_23000000000_2_3_1</td>\n",
       "      <td>{'creative_theme': 'Lifestyle &amp; Aspirational',...</td>\n",
       "    </tr>\n",
       "    <tr>\n",
       "      <th>4</th>\n",
       "      <td>Play ten minutes a day to relieve stress!</td>\n",
       "      <td>Sugarcane Factory 3D</td>\n",
       "      <td>0</td>\n",
       "      <td>0.02</td>\n",
       "      <td>False</td>\n",
       "      <td>7077499507373899777</td>\n",
       "      <td>label_23125000000</td>\n",
       "      <td>True</td>\n",
       "      <td>2739</td>\n",
       "      <td>campaign_objective_app_install</td>\n",
       "      <td>NaN</td>\n",
       "      <td>{'vid': 'v10033g50000cfl0uujc77u563dfii20', 'd...</td>\n",
       "      <td></td>\n",
       "      <td>{'child': {'id': 23125000000, 'value': 'Games ...</td>\n",
       "      <td>{'id': 2, 'value': 'App Installs'}</td>\n",
       "      <td>2025-04-04T17:53:16.735723</td>\n",
       "      <td>ad_23000000000_2_4_1</td>\n",
       "      <td>{'creative_theme': 'Product-Centric', 'creativ...</td>\n",
       "    </tr>\n",
       "  </tbody>\n",
       "</table>\n",
       "</div>"
      ],
      "text/plain": [
       "                                     ad_title                    brand_name  \\\n",
       "0                          Great time killer!          Survival Game Master   \n",
       "1                       Oddly satisfying game              Gameworld Master   \n",
       "2  My friend recommended me to play this game  Sugarcane Inc. Empire Tycoon   \n",
       "3                                download now      Smart VPN - Fast, Stable   \n",
       "4   Play ten minutes a day to relieve stress!          Sugarcane Factory 3D   \n",
       "\n",
       "   cost   ctr  favorite                   id       industry_key  is_search  \\\n",
       "0     2  0.01     False  7132878852058906625  label_23125000000       True   \n",
       "1     2  0.01     False  7109275920046178305  label_23125000000       True   \n",
       "2     0  0.02     False  7077499601561305089  label_23125000000       True   \n",
       "3     2  0.02     False  7176836203668783106  label_23125000000       True   \n",
       "4     0  0.02     False  7077499507373899777  label_23125000000       True   \n",
       "\n",
       "     like                   objective_key  tag  \\\n",
       "0   38213  campaign_objective_app_install  3.0   \n",
       "1   14299  campaign_objective_app_install  3.0   \n",
       "2    2427  campaign_objective_app_install  NaN   \n",
       "3  124771  campaign_objective_app_install  3.0   \n",
       "4    2739  campaign_objective_app_install  NaN   \n",
       "\n",
       "                                          video_info  \\\n",
       "0  {'vid': 'v0911dg40001cbta3ebc77u7vbp6b1gg', 'd...   \n",
       "1  {'vid': 'v10033g50000caldhr3c77ub7mthrn5g', 'd...   \n",
       "2  {'vid': 'v10033g50000cfgfgl3c77u9fehpnd8g', 'd...   \n",
       "3  {'vid': 'v10033g50000cuqnqlnog65qepkj72vg', 'd...   \n",
       "4  {'vid': 'v10033g50000cfl0uujc77u563dfii20', 'd...   \n",
       "\n",
       "                                     detail_analysis  \\\n",
       "0  This ad is using Product Review to catch audie...   \n",
       "1  This ad is using Strategy Focused to catch aud...   \n",
       "2                                                      \n",
       "3  This ad is using Oddly Satisfying to catch aud...   \n",
       "4                                                      \n",
       "\n",
       "                                            industry  \\\n",
       "0  {'child': {'id': 23125000000, 'value': 'Games ...   \n",
       "1  {'child': {'id': 23125000000, 'value': 'Games ...   \n",
       "2  {'child': {'id': 23125000000, 'value': 'Games ...   \n",
       "3  {'child': {'id': 23125000000, 'value': 'Games ...   \n",
       "4  {'child': {'id': 23125000000, 'value': 'Games ...   \n",
       "\n",
       "                            objective              scrap_datetime  \\\n",
       "0  {'id': 2, 'value': 'App Installs'}  2025-04-04T17:53:16.735723   \n",
       "1  {'id': 2, 'value': 'App Installs'}  2025-04-04T17:53:16.735723   \n",
       "2  {'id': 2, 'value': 'App Installs'}  2025-04-04T17:53:16.735723   \n",
       "3  {'id': 2, 'value': 'App Installs'}  2025-04-04T17:53:16.735723   \n",
       "4  {'id': 2, 'value': 'App Installs'}  2025-04-04T17:53:16.735723   \n",
       "\n",
       "             video_name                                  creative_features  \n",
       "0  ad_23000000000_2_0_1  {'creative_theme': 'Promotional & Offer-Based'...  \n",
       "1  ad_23000000000_2_1_1  {'creative_theme': 'Product-Centric', 'creativ...  \n",
       "2  ad_23000000000_2_2_1  {'creative_theme': 'Educational & Explainer', ...  \n",
       "3  ad_23000000000_2_3_1  {'creative_theme': 'Lifestyle & Aspirational',...  \n",
       "4  ad_23000000000_2_4_1  {'creative_theme': 'Product-Centric', 'creativ...  "
      ]
     },
     "execution_count": 48,
     "metadata": {},
     "output_type": "execute_result"
    }
   ],
   "source": [
    "df.head()"
   ]
  },
  {
   "cell_type": "code",
   "execution_count": 49,
   "id": "a61110a4",
   "metadata": {},
   "outputs": [],
   "source": [
    "#Flatening the json columns (video_info, indusrtry, objective, creative_fetures)\n",
    "def flatten_json_columns(df):\n",
    "    try:\n",
    "        # Flatten the 'video_info' column\n",
    "        video_info_df = pd.json_normalize(df['video_info'])\n",
    "        video_info_df.columns = [f'video_info_{col}' for col in video_info_df.columns]\n",
    "        \n",
    "        # Flatten the 'industry' column\n",
    "        industry_df = pd.json_normalize(df['industry'])\n",
    "        industry_df.columns = [f'industry_{col}' for col in industry_df.columns]\n",
    "        \n",
    "        # Flatten the 'objective' column\n",
    "        objective_df = pd.json_normalize(df['objective'])\n",
    "        objective_df.columns = [f'objective_{col}' for col in objective_df.columns]\n",
    "        \n",
    "        # Flatten the 'creative_features' column\n",
    "        creative_features_df = pd.json_normalize(df['creative_features'])\n",
    "        creative_features_df.columns = [f'creative_features_{col}' for col in creative_features_df.columns]\n",
    "        \n",
    "        # Concatenate all DataFrames\n",
    "        df_flattened = pd.concat([df.drop(columns=['video_info', 'industry', 'objective', 'creative_features']),\n",
    "                                   video_info_df, industry_df, objective_df, creative_features_df], axis=1)\n",
    "        \n",
    "        return df_flattened\n",
    "    except Exception as e:\n",
    "        print(f\"An error occurred while flattening JSON columns: {e}\")\n",
    "        return df\n"
   ]
  },
  {
   "cell_type": "code",
   "execution_count": 50,
   "id": "3802b08f",
   "metadata": {},
   "outputs": [],
   "source": [
    "df = flatten_json_columns(df)"
   ]
  },
  {
   "cell_type": "markdown",
   "id": "96440911",
   "metadata": {},
   "source": [
    "## Data Cleansing"
   ]
  },
  {
   "cell_type": "code",
   "execution_count": 51,
   "id": "3b689909",
   "metadata": {},
   "outputs": [],
   "source": [
    "df.drop(columns=['industry_key', 'objective_key', 'industry_child.id', 'industry_parent.id', 'video_info_video_url.360p', 'video_info_video_url.480p', 'video_info_video_url.540p', 'video_info_video_url.720p', 'video_info_video_url.1080p'], inplace=True)"
   ]
  },
  {
   "cell_type": "code",
   "execution_count": 53,
   "id": "7580c997",
   "metadata": {},
   "outputs": [
    {
     "name": "stdout",
     "output_type": "stream",
     "text": [
      "tag\n",
      "2.0    126\n",
      "3.0     95\n",
      "Name: count, dtype: int64\n",
      "tag\n",
      "unknown    361\n",
      "2.0        126\n",
      "3.0         95\n",
      "Name: count, dtype: int64\n"
     ]
    }
   ],
   "source": [
    "#Filling the missing values\n",
    "print(df['tag'].value_counts())\n",
    "\n",
    "#lets fill the missing values with 'unknown'\n",
    "df.fillna({'tag':'unknown'}, inplace=True)\n",
    "\n",
    "print(df['tag'].value_counts())"
   ]
  },
  {
   "cell_type": "code",
   "execution_count": 54,
   "id": "3784d6e3",
   "metadata": {},
   "outputs": [
    {
     "name": "stdout",
     "output_type": "stream",
     "text": [
      "<class 'pandas.core.frame.DataFrame'>\n",
      "RangeIndex: 582 entries, 0 to 581\n",
      "Data columns (total 28 columns):\n",
      " #   Column                                        Non-Null Count  Dtype  \n",
      "---  ------                                        --------------  -----  \n",
      " 0   ad_title                                      582 non-null    object \n",
      " 1   brand_name                                    582 non-null    object \n",
      " 2   cost                                          582 non-null    int64  \n",
      " 3   ctr                                           582 non-null    float64\n",
      " 4   favorite                                      582 non-null    bool   \n",
      " 5   id                                            582 non-null    object \n",
      " 6   is_search                                     582 non-null    bool   \n",
      " 7   like                                          582 non-null    int64  \n",
      " 8   tag                                           582 non-null    object \n",
      " 9   detail_analysis                               582 non-null    object \n",
      " 10  scrap_datetime                                582 non-null    object \n",
      " 11  video_name                                    582 non-null    object \n",
      " 12  video_info_vid                                582 non-null    object \n",
      " 13  video_info_duration                           582 non-null    float64\n",
      " 14  video_info_cover                              582 non-null    object \n",
      " 15  video_info_width                              582 non-null    int64  \n",
      " 16  video_info_height                             582 non-null    int64  \n",
      " 17  industry_child.value                          582 non-null    object \n",
      " 18  industry_parent.value                         582 non-null    object \n",
      " 19  objective_id                                  582 non-null    int64  \n",
      " 20  objective_value                               582 non-null    object \n",
      " 21  creative_features_creative_theme              582 non-null    object \n",
      " 22  creative_features_creative_concept            582 non-null    object \n",
      " 23  creative_features_format_production_style     582 non-null    object \n",
      " 24  creative_features_talent_type                 582 non-null    object \n",
      " 25  creative_features_demographic_representation  582 non-null    object \n",
      " 26  creative_features_audience_focus              582 non-null    object \n",
      " 27  creative_features_campaign_objective          582 non-null    object \n",
      "dtypes: bool(2), float64(2), int64(5), object(19)\n",
      "memory usage: 119.5+ KB\n"
     ]
    }
   ],
   "source": [
    "df.info()"
   ]
  },
  {
   "cell_type": "markdown",
   "id": "9d894090",
   "metadata": {},
   "source": [
    "## EDA"
   ]
  },
  {
   "cell_type": "code",
   "execution_count": 55,
   "id": "c305a5f2",
   "metadata": {},
   "outputs": [
    {
     "ename": "ModuleNotFoundError",
     "evalue": "No module named 'ydata_profiling'",
     "output_type": "error",
     "traceback": [
      "\u001b[0;31m---------------------------------------------------------------------------\u001b[0m",
      "\u001b[0;31mModuleNotFoundError\u001b[0m                       Traceback (most recent call last)",
      "Cell \u001b[0;32mIn[55], line 1\u001b[0m\n\u001b[0;32m----> 1\u001b[0m \u001b[38;5;28;01mfrom\u001b[39;00m\u001b[38;5;250m \u001b[39m\u001b[38;5;21;01mydata_profiling\u001b[39;00m\u001b[38;5;250m \u001b[39m\u001b[38;5;28;01mimport\u001b[39;00m ProfileReport\n",
      "\u001b[0;31mModuleNotFoundError\u001b[0m: No module named 'ydata_profiling'"
     ]
    }
   ],
   "source": [
    "from ydata_profiling import ProfileReport"
   ]
  },
  {
   "cell_type": "code",
   "execution_count": null,
   "id": "694bfb5f",
   "metadata": {},
   "outputs": [],
   "source": [
    "\n",
    "report = ProfileReport(df, title=\"Quick EDA Report\", explorative=True)\n",
    "report.to_file(\"report.html\")"
   ]
  }
 ],
 "metadata": {
  "kernelspec": {
   "display_name": "NarrativeLens",
   "language": "python",
   "name": "python3"
  },
  "language_info": {
   "codemirror_mode": {
    "name": "ipython",
    "version": 3
   },
   "file_extension": ".py",
   "mimetype": "text/x-python",
   "name": "python",
   "nbconvert_exporter": "python",
   "pygments_lexer": "ipython3",
   "version": "3.10.13"
  }
 },
 "nbformat": 4,
 "nbformat_minor": 5
}
