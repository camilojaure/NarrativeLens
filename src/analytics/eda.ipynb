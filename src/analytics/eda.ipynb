{
 "cells": [
  {
   "cell_type": "markdown",
   "id": "87620be6",
   "metadata": {},
   "source": [
    "# Narrative Lens Exploratory Data Analysis"
   ]
  },
  {
   "cell_type": "code",
   "execution_count": 1,
   "id": "472561ef",
   "metadata": {},
   "outputs": [],
   "source": [
    "import pandas as pd\n",
    "import pymongo\n",
    "import json\n",
    "from pymongo import MongoClient\n",
    "from pymongo.errors import ConnectionFailure\n"
   ]
  },
  {
   "cell_type": "code",
   "execution_count": null,
   "id": "ede6cabb",
   "metadata": {},
   "outputs": [],
   "source": []
  }
 ],
 "metadata": {
  "kernelspec": {
   "display_name": "NarrativeLens",
   "language": "python",
   "name": "python3"
  },
  "language_info": {
   "codemirror_mode": {
    "name": "ipython",
    "version": 3
   },
   "file_extension": ".py",
   "mimetype": "text/x-python",
   "name": "python",
   "nbconvert_exporter": "python",
   "pygments_lexer": "ipython3",
   "version": "3.10.13"
  }
 },
 "nbformat": 4,
 "nbformat_minor": 5
}
