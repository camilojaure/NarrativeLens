{
 "cells": [
  {
   "cell_type": "markdown",
   "id": "87620be6",
   "metadata": {},
   "source": [
    "# Narrative Lens Exploratory Data Analysis"
   ]
  },
  {
   "cell_type": "code",
   "execution_count": 44,
   "id": "472561ef",
   "metadata": {},
   "outputs": [],
   "source": [
    "import pandas as pd\n",
    "import pymongo\n",
    "import json\n",
    "from pymongo import MongoClient\n",
    "from pymongo.errors import ConnectionFailure\n"
   ]
  },
  {
   "cell_type": "code",
   "execution_count": 45,
   "id": "ede6cabb",
   "metadata": {},
   "outputs": [
    {
     "name": "stdout",
     "output_type": "stream",
     "text": [
      "MongoDB connection successful\n"
     ]
    }
   ],
   "source": [
    "#mongo conection\n",
    "try:\n",
    "    client = MongoClient('mongodb://localhost:27017/')\n",
    "    db = client['NarrativeLens']\n",
    "    collection = db['tiktok_ads_us_toplikes']\n",
    "    print(\"MongoDB connection successful\")\n",
    "\n",
    "except ConnectionFailure as e:\n",
    "    print(f\"Could not connect to MongoDB: {e}\")\n",
    "    exit(1)\n",
    "except Exception as e:\n",
    "    print(f\"An error occurred: {e}\")\n",
    "    exit(1)"
   ]
  },
  {
   "cell_type": "code",
   "execution_count": 46,
   "id": "30ad084b",
   "metadata": {},
   "outputs": [],
   "source": [
    "# Load the mongodb collection into a pandas DataFrame\n",
    "def load_mongo_collection_to_dataframe(collection):\n",
    "    try:\n",
    "        data = list(collection.find())\n",
    "        if not data:\n",
    "            print(\"No data found in the collection.\")\n",
    "            return pd.DataFrame()\n",
    "        df = pd.DataFrame(data)\n",
    "        # Drop the '_id' column if it exists\n",
    "        if '_id' in df.columns:\n",
    "            df.drop(columns=['_id'], inplace=True)\n",
    "        return df\n",
    "    except Exception as e:\n",
    "        print(f\"An error occurred while loading data from MongoDB: {e}\")\n",
    "        return pd.DataFrame()"
   ]
  },
  {
   "cell_type": "code",
   "execution_count": 47,
   "id": "3f9fc8f9",
   "metadata": {},
   "outputs": [],
   "source": [
    "# Load the data into a DataFrame\n",
    "df = load_mongo_collection_to_dataframe(collection)\n"
   ]
  },
  {
   "cell_type": "code",
   "execution_count": 48,
   "id": "f18d1efb",
   "metadata": {},
   "outputs": [
    {
     "data": {
      "text/html": [
       "<div>\n",
       "<style scoped>\n",
       "    .dataframe tbody tr th:only-of-type {\n",
       "        vertical-align: middle;\n",
       "    }\n",
       "\n",
       "    .dataframe tbody tr th {\n",
       "        vertical-align: top;\n",
       "    }\n",
       "\n",
       "    .dataframe thead th {\n",
       "        text-align: right;\n",
       "    }\n",
       "</style>\n",
       "<table border=\"1\" class=\"dataframe\">\n",
       "  <thead>\n",
       "    <tr style=\"text-align: right;\">\n",
       "      <th></th>\n",
       "      <th>ad_title</th>\n",
       "      <th>brand_name</th>\n",
       "      <th>cost</th>\n",
       "      <th>ctr</th>\n",
       "      <th>favorite</th>\n",
       "      <th>id</th>\n",
       "      <th>industry_key</th>\n",
       "      <th>is_search</th>\n",
       "      <th>like</th>\n",
       "      <th>objective_key</th>\n",
       "      <th>tag</th>\n",
       "      <th>video_info</th>\n",
       "      <th>detail_analysis</th>\n",
       "      <th>industry</th>\n",
       "      <th>objective</th>\n",
       "      <th>scrap_datetime</th>\n",
       "      <th>video_name</th>\n",
       "      <th>creative_features</th>\n",
       "    </tr>\n",
       "  </thead>\n",
       "  <tbody>\n",
       "    <tr>\n",
       "      <th>0</th>\n",
       "      <td>Great time killer!</td>\n",
       "      <td>Survival Game Master</td>\n",
       "      <td>2</td>\n",
       "      <td>0.01</td>\n",
       "      <td>False</td>\n",
       "      <td>7132878852058906625</td>\n",
       "      <td>label_23125000000</td>\n",
       "      <td>True</td>\n",
       "      <td>38213</td>\n",
       "      <td>campaign_objective_app_install</td>\n",
       "      <td>3.0</td>\n",
       "      <td>{'vid': 'v0911dg40001cbta3ebc77u7vbp6b1gg', 'd...</td>\n",
       "      <td>This ad is using Product Review to catch audie...</td>\n",
       "      <td>{'child': {'id': 23125000000, 'value': 'Games ...</td>\n",
       "      <td>{'id': 2, 'value': 'App Installs'}</td>\n",
       "      <td>2025-04-04T17:53:16.735723</td>\n",
       "      <td>ad_23000000000_2_0_1</td>\n",
       "      <td>{'creative_theme': 'Promotional &amp; Offer-Based'...</td>\n",
       "    </tr>\n",
       "    <tr>\n",
       "      <th>1</th>\n",
       "      <td>Oddly satisfying game</td>\n",
       "      <td>Gameworld Master</td>\n",
       "      <td>2</td>\n",
       "      <td>0.01</td>\n",
       "      <td>False</td>\n",
       "      <td>7109275920046178305</td>\n",
       "      <td>label_23125000000</td>\n",
       "      <td>True</td>\n",
       "      <td>14299</td>\n",
       "      <td>campaign_objective_app_install</td>\n",
       "      <td>3.0</td>\n",
       "      <td>{'vid': 'v10033g50000caldhr3c77ub7mthrn5g', 'd...</td>\n",
       "      <td>This ad is using Strategy Focused to catch aud...</td>\n",
       "      <td>{'child': {'id': 23125000000, 'value': 'Games ...</td>\n",
       "      <td>{'id': 2, 'value': 'App Installs'}</td>\n",
       "      <td>2025-04-04T17:53:16.735723</td>\n",
       "      <td>ad_23000000000_2_1_1</td>\n",
       "      <td>{'creative_theme': 'Product-Centric', 'creativ...</td>\n",
       "    </tr>\n",
       "    <tr>\n",
       "      <th>2</th>\n",
       "      <td>My friend recommended me to play this game</td>\n",
       "      <td>Sugarcane Inc. Empire Tycoon</td>\n",
       "      <td>0</td>\n",
       "      <td>0.02</td>\n",
       "      <td>False</td>\n",
       "      <td>7077499601561305089</td>\n",
       "      <td>label_23125000000</td>\n",
       "      <td>True</td>\n",
       "      <td>2427</td>\n",
       "      <td>campaign_objective_app_install</td>\n",
       "      <td>NaN</td>\n",
       "      <td>{'vid': 'v10033g50000cfgfgl3c77u9fehpnd8g', 'd...</td>\n",
       "      <td></td>\n",
       "      <td>{'child': {'id': 23125000000, 'value': 'Games ...</td>\n",
       "      <td>{'id': 2, 'value': 'App Installs'}</td>\n",
       "      <td>2025-04-04T17:53:16.735723</td>\n",
       "      <td>ad_23000000000_2_2_1</td>\n",
       "      <td>{'creative_theme': 'Educational &amp; Explainer', ...</td>\n",
       "    </tr>\n",
       "    <tr>\n",
       "      <th>3</th>\n",
       "      <td>download now</td>\n",
       "      <td>Smart VPN - Fast, Stable</td>\n",
       "      <td>2</td>\n",
       "      <td>0.02</td>\n",
       "      <td>False</td>\n",
       "      <td>7176836203668783106</td>\n",
       "      <td>label_23125000000</td>\n",
       "      <td>True</td>\n",
       "      <td>124771</td>\n",
       "      <td>campaign_objective_app_install</td>\n",
       "      <td>3.0</td>\n",
       "      <td>{'vid': 'v10033g50000cuqnqlnog65qepkj72vg', 'd...</td>\n",
       "      <td>This ad is using Oddly Satisfying to catch aud...</td>\n",
       "      <td>{'child': {'id': 23125000000, 'value': 'Games ...</td>\n",
       "      <td>{'id': 2, 'value': 'App Installs'}</td>\n",
       "      <td>2025-04-04T17:53:16.735723</td>\n",
       "      <td>ad_23000000000_2_3_1</td>\n",
       "      <td>{'creative_theme': 'Lifestyle &amp; Aspirational',...</td>\n",
       "    </tr>\n",
       "    <tr>\n",
       "      <th>4</th>\n",
       "      <td>Play ten minutes a day to relieve stress!</td>\n",
       "      <td>Sugarcane Factory 3D</td>\n",
       "      <td>0</td>\n",
       "      <td>0.02</td>\n",
       "      <td>False</td>\n",
       "      <td>7077499507373899777</td>\n",
       "      <td>label_23125000000</td>\n",
       "      <td>True</td>\n",
       "      <td>2739</td>\n",
       "      <td>campaign_objective_app_install</td>\n",
       "      <td>NaN</td>\n",
       "      <td>{'vid': 'v10033g50000cfl0uujc77u563dfii20', 'd...</td>\n",
       "      <td></td>\n",
       "      <td>{'child': {'id': 23125000000, 'value': 'Games ...</td>\n",
       "      <td>{'id': 2, 'value': 'App Installs'}</td>\n",
       "      <td>2025-04-04T17:53:16.735723</td>\n",
       "      <td>ad_23000000000_2_4_1</td>\n",
       "      <td>{'creative_theme': 'Product-Centric', 'creativ...</td>\n",
       "    </tr>\n",
       "  </tbody>\n",
       "</table>\n",
       "</div>"
      ],
      "text/plain": [
       "                                     ad_title                    brand_name  \\\n",
       "0                          Great time killer!          Survival Game Master   \n",
       "1                       Oddly satisfying game              Gameworld Master   \n",
       "2  My friend recommended me to play this game  Sugarcane Inc. Empire Tycoon   \n",
       "3                                download now      Smart VPN - Fast, Stable   \n",
       "4   Play ten minutes a day to relieve stress!          Sugarcane Factory 3D   \n",
       "\n",
       "   cost   ctr  favorite                   id       industry_key  is_search  \\\n",
       "0     2  0.01     False  7132878852058906625  label_23125000000       True   \n",
       "1     2  0.01     False  7109275920046178305  label_23125000000       True   \n",
       "2     0  0.02     False  7077499601561305089  label_23125000000       True   \n",
       "3     2  0.02     False  7176836203668783106  label_23125000000       True   \n",
       "4     0  0.02     False  7077499507373899777  label_23125000000       True   \n",
       "\n",
       "     like                   objective_key  tag  \\\n",
       "0   38213  campaign_objective_app_install  3.0   \n",
       "1   14299  campaign_objective_app_install  3.0   \n",
       "2    2427  campaign_objective_app_install  NaN   \n",
       "3  124771  campaign_objective_app_install  3.0   \n",
       "4    2739  campaign_objective_app_install  NaN   \n",
       "\n",
       "                                          video_info  \\\n",
       "0  {'vid': 'v0911dg40001cbta3ebc77u7vbp6b1gg', 'd...   \n",
       "1  {'vid': 'v10033g50000caldhr3c77ub7mthrn5g', 'd...   \n",
       "2  {'vid': 'v10033g50000cfgfgl3c77u9fehpnd8g', 'd...   \n",
       "3  {'vid': 'v10033g50000cuqnqlnog65qepkj72vg', 'd...   \n",
       "4  {'vid': 'v10033g50000cfl0uujc77u563dfii20', 'd...   \n",
       "\n",
       "                                     detail_analysis  \\\n",
       "0  This ad is using Product Review to catch audie...   \n",
       "1  This ad is using Strategy Focused to catch aud...   \n",
       "2                                                      \n",
       "3  This ad is using Oddly Satisfying to catch aud...   \n",
       "4                                                      \n",
       "\n",
       "                                            industry  \\\n",
       "0  {'child': {'id': 23125000000, 'value': 'Games ...   \n",
       "1  {'child': {'id': 23125000000, 'value': 'Games ...   \n",
       "2  {'child': {'id': 23125000000, 'value': 'Games ...   \n",
       "3  {'child': {'id': 23125000000, 'value': 'Games ...   \n",
       "4  {'child': {'id': 23125000000, 'value': 'Games ...   \n",
       "\n",
       "                            objective              scrap_datetime  \\\n",
       "0  {'id': 2, 'value': 'App Installs'}  2025-04-04T17:53:16.735723   \n",
       "1  {'id': 2, 'value': 'App Installs'}  2025-04-04T17:53:16.735723   \n",
       "2  {'id': 2, 'value': 'App Installs'}  2025-04-04T17:53:16.735723   \n",
       "3  {'id': 2, 'value': 'App Installs'}  2025-04-04T17:53:16.735723   \n",
       "4  {'id': 2, 'value': 'App Installs'}  2025-04-04T17:53:16.735723   \n",
       "\n",
       "             video_name                                  creative_features  \n",
       "0  ad_23000000000_2_0_1  {'creative_theme': 'Promotional & Offer-Based'...  \n",
       "1  ad_23000000000_2_1_1  {'creative_theme': 'Product-Centric', 'creativ...  \n",
       "2  ad_23000000000_2_2_1  {'creative_theme': 'Educational & Explainer', ...  \n",
       "3  ad_23000000000_2_3_1  {'creative_theme': 'Lifestyle & Aspirational',...  \n",
       "4  ad_23000000000_2_4_1  {'creative_theme': 'Product-Centric', 'creativ...  "
      ]
     },
     "execution_count": 48,
     "metadata": {},
     "output_type": "execute_result"
    }
   ],
   "source": [
    "df.head()"
   ]
  },
  {
   "cell_type": "code",
   "execution_count": 49,
   "id": "a61110a4",
   "metadata": {},
   "outputs": [],
   "source": [
    "#Flatening the json columns (video_info, indusrtry, objective, creative_fetures)\n",
    "def flatten_json_columns(df):\n",
    "    try:\n",
    "        # Flatten the 'video_info' column\n",
    "        video_info_df = pd.json_normalize(df['video_info'])\n",
    "        video_info_df.columns = [f'video_info_{col}' for col in video_info_df.columns]\n",
    "        \n",
    "        # Flatten the 'industry' column\n",
    "        industry_df = pd.json_normalize(df['industry'])\n",
    "        industry_df.columns = [f'industry_{col}' for col in industry_df.columns]\n",
    "        \n",
    "        # Flatten the 'objective' column\n",
    "        objective_df = pd.json_normalize(df['objective'])\n",
    "        objective_df.columns = [f'objective_{col}' for col in objective_df.columns]\n",
    "        \n",
    "        # Flatten the 'creative_features' column\n",
    "        creative_features_df = pd.json_normalize(df['creative_features'])\n",
    "        creative_features_df.columns = [f'creative_features_{col}' for col in creative_features_df.columns]\n",
    "        \n",
    "        # Concatenate all DataFrames\n",
    "        df_flattened = pd.concat([df.drop(columns=['video_info', 'industry', 'objective', 'creative_features']),\n",
    "                                   video_info_df, industry_df, objective_df, creative_features_df], axis=1)\n",
    "        \n",
    "        return df_flattened\n",
    "    except Exception as e:\n",
    "        print(f\"An error occurred while flattening JSON columns: {e}\")\n",
    "        return df\n"
   ]
  },
  {
   "cell_type": "code",
   "execution_count": 50,
   "id": "3802b08f",
   "metadata": {},
   "outputs": [],
   "source": [
    "df = flatten_json_columns(df)"
   ]
  },
  {
   "cell_type": "markdown",
   "id": "96440911",
   "metadata": {},
   "source": [
    "## Data Cleansing"
   ]
  },
  {
   "cell_type": "code",
   "execution_count": 59,
   "id": "3b689909",
   "metadata": {},
   "outputs": [
    {
     "ename": "KeyError",
     "evalue": "\"['industry_key', 'objective_key', 'industry_child.id', 'industry_parent.id', 'video_info_video_url.360p', 'video_info_video_url.480p', 'video_info_video_url.540p', 'video_info_video_url.720p', 'video_info_video_url.1080p'] not found in axis\"",
     "output_type": "error",
     "traceback": [
      "\u001b[0;31m---------------------------------------------------------------------------\u001b[0m",
      "\u001b[0;31mKeyError\u001b[0m                                  Traceback (most recent call last)",
      "Cell \u001b[0;32mIn[59], line 1\u001b[0m\n\u001b[0;32m----> 1\u001b[0m \u001b[43mdf\u001b[49m\u001b[38;5;241;43m.\u001b[39;49m\u001b[43mdrop\u001b[49m\u001b[43m(\u001b[49m\u001b[43mcolumns\u001b[49m\u001b[38;5;241;43m=\u001b[39;49m\u001b[43m[\u001b[49m\u001b[38;5;124;43m'\u001b[39;49m\u001b[38;5;124;43mobjective_id\u001b[39;49m\u001b[38;5;124;43m'\u001b[39;49m\u001b[43m,\u001b[49m\u001b[43m \u001b[49m\u001b[38;5;124;43m'\u001b[39;49m\u001b[38;5;124;43mindustry_key\u001b[39;49m\u001b[38;5;124;43m'\u001b[39;49m\u001b[43m,\u001b[49m\u001b[43m \u001b[49m\u001b[38;5;124;43m'\u001b[39;49m\u001b[38;5;124;43mobjective_key\u001b[39;49m\u001b[38;5;124;43m'\u001b[39;49m\u001b[43m,\u001b[49m\u001b[43m \u001b[49m\u001b[38;5;124;43m'\u001b[39;49m\u001b[38;5;124;43mindustry_child.id\u001b[39;49m\u001b[38;5;124;43m'\u001b[39;49m\u001b[43m,\u001b[49m\u001b[43m \u001b[49m\u001b[38;5;124;43m'\u001b[39;49m\u001b[38;5;124;43mindustry_parent.id\u001b[39;49m\u001b[38;5;124;43m'\u001b[39;49m\u001b[43m,\u001b[49m\u001b[43m \u001b[49m\u001b[38;5;124;43m'\u001b[39;49m\u001b[38;5;124;43mvideo_info_video_url.360p\u001b[39;49m\u001b[38;5;124;43m'\u001b[39;49m\u001b[43m,\u001b[49m\u001b[43m \u001b[49m\u001b[38;5;124;43m'\u001b[39;49m\u001b[38;5;124;43mvideo_info_video_url.480p\u001b[39;49m\u001b[38;5;124;43m'\u001b[39;49m\u001b[43m,\u001b[49m\u001b[43m \u001b[49m\u001b[38;5;124;43m'\u001b[39;49m\u001b[38;5;124;43mvideo_info_video_url.540p\u001b[39;49m\u001b[38;5;124;43m'\u001b[39;49m\u001b[43m,\u001b[49m\u001b[43m \u001b[49m\u001b[38;5;124;43m'\u001b[39;49m\u001b[38;5;124;43mvideo_info_video_url.720p\u001b[39;49m\u001b[38;5;124;43m'\u001b[39;49m\u001b[43m,\u001b[49m\u001b[43m \u001b[49m\u001b[38;5;124;43m'\u001b[39;49m\u001b[38;5;124;43mvideo_info_video_url.1080p\u001b[39;49m\u001b[38;5;124;43m'\u001b[39;49m\u001b[43m]\u001b[49m\u001b[43m,\u001b[49m\u001b[43m \u001b[49m\u001b[43minplace\u001b[49m\u001b[38;5;241;43m=\u001b[39;49m\u001b[38;5;28;43;01mTrue\u001b[39;49;00m\u001b[43m)\u001b[49m\n",
      "File \u001b[0;32m~/Documents/Projects/Developments/NarrativeLens/NarrativeLens/lib/python3.10/site-packages/pandas/core/frame.py:5581\u001b[0m, in \u001b[0;36mDataFrame.drop\u001b[0;34m(self, labels, axis, index, columns, level, inplace, errors)\u001b[0m\n\u001b[1;32m   5433\u001b[0m \u001b[38;5;28;01mdef\u001b[39;00m\u001b[38;5;250m \u001b[39m\u001b[38;5;21mdrop\u001b[39m(\n\u001b[1;32m   5434\u001b[0m     \u001b[38;5;28mself\u001b[39m,\n\u001b[1;32m   5435\u001b[0m     labels: IndexLabel \u001b[38;5;241m|\u001b[39m \u001b[38;5;28;01mNone\u001b[39;00m \u001b[38;5;241m=\u001b[39m \u001b[38;5;28;01mNone\u001b[39;00m,\n\u001b[0;32m   (...)\u001b[0m\n\u001b[1;32m   5442\u001b[0m     errors: IgnoreRaise \u001b[38;5;241m=\u001b[39m \u001b[38;5;124m\"\u001b[39m\u001b[38;5;124mraise\u001b[39m\u001b[38;5;124m\"\u001b[39m,\n\u001b[1;32m   5443\u001b[0m ) \u001b[38;5;241m-\u001b[39m\u001b[38;5;241m>\u001b[39m DataFrame \u001b[38;5;241m|\u001b[39m \u001b[38;5;28;01mNone\u001b[39;00m:\n\u001b[1;32m   5444\u001b[0m \u001b[38;5;250m    \u001b[39m\u001b[38;5;124;03m\"\"\"\u001b[39;00m\n\u001b[1;32m   5445\u001b[0m \u001b[38;5;124;03m    Drop specified labels from rows or columns.\u001b[39;00m\n\u001b[1;32m   5446\u001b[0m \n\u001b[0;32m   (...)\u001b[0m\n\u001b[1;32m   5579\u001b[0m \u001b[38;5;124;03m            weight  1.0     0.8\u001b[39;00m\n\u001b[1;32m   5580\u001b[0m \u001b[38;5;124;03m    \"\"\"\u001b[39;00m\n\u001b[0;32m-> 5581\u001b[0m     \u001b[38;5;28;01mreturn\u001b[39;00m \u001b[38;5;28;43msuper\u001b[39;49m\u001b[43m(\u001b[49m\u001b[43m)\u001b[49m\u001b[38;5;241;43m.\u001b[39;49m\u001b[43mdrop\u001b[49m\u001b[43m(\u001b[49m\n\u001b[1;32m   5582\u001b[0m \u001b[43m        \u001b[49m\u001b[43mlabels\u001b[49m\u001b[38;5;241;43m=\u001b[39;49m\u001b[43mlabels\u001b[49m\u001b[43m,\u001b[49m\n\u001b[1;32m   5583\u001b[0m \u001b[43m        \u001b[49m\u001b[43maxis\u001b[49m\u001b[38;5;241;43m=\u001b[39;49m\u001b[43maxis\u001b[49m\u001b[43m,\u001b[49m\n\u001b[1;32m   5584\u001b[0m \u001b[43m        \u001b[49m\u001b[43mindex\u001b[49m\u001b[38;5;241;43m=\u001b[39;49m\u001b[43mindex\u001b[49m\u001b[43m,\u001b[49m\n\u001b[1;32m   5585\u001b[0m \u001b[43m        \u001b[49m\u001b[43mcolumns\u001b[49m\u001b[38;5;241;43m=\u001b[39;49m\u001b[43mcolumns\u001b[49m\u001b[43m,\u001b[49m\n\u001b[1;32m   5586\u001b[0m \u001b[43m        \u001b[49m\u001b[43mlevel\u001b[49m\u001b[38;5;241;43m=\u001b[39;49m\u001b[43mlevel\u001b[49m\u001b[43m,\u001b[49m\n\u001b[1;32m   5587\u001b[0m \u001b[43m        \u001b[49m\u001b[43minplace\u001b[49m\u001b[38;5;241;43m=\u001b[39;49m\u001b[43minplace\u001b[49m\u001b[43m,\u001b[49m\n\u001b[1;32m   5588\u001b[0m \u001b[43m        \u001b[49m\u001b[43merrors\u001b[49m\u001b[38;5;241;43m=\u001b[39;49m\u001b[43merrors\u001b[49m\u001b[43m,\u001b[49m\n\u001b[1;32m   5589\u001b[0m \u001b[43m    \u001b[49m\u001b[43m)\u001b[49m\n",
      "File \u001b[0;32m~/Documents/Projects/Developments/NarrativeLens/NarrativeLens/lib/python3.10/site-packages/pandas/core/generic.py:4788\u001b[0m, in \u001b[0;36mNDFrame.drop\u001b[0;34m(self, labels, axis, index, columns, level, inplace, errors)\u001b[0m\n\u001b[1;32m   4786\u001b[0m \u001b[38;5;28;01mfor\u001b[39;00m axis, labels \u001b[38;5;129;01min\u001b[39;00m axes\u001b[38;5;241m.\u001b[39mitems():\n\u001b[1;32m   4787\u001b[0m     \u001b[38;5;28;01mif\u001b[39;00m labels \u001b[38;5;129;01mis\u001b[39;00m \u001b[38;5;129;01mnot\u001b[39;00m \u001b[38;5;28;01mNone\u001b[39;00m:\n\u001b[0;32m-> 4788\u001b[0m         obj \u001b[38;5;241m=\u001b[39m \u001b[43mobj\u001b[49m\u001b[38;5;241;43m.\u001b[39;49m\u001b[43m_drop_axis\u001b[49m\u001b[43m(\u001b[49m\u001b[43mlabels\u001b[49m\u001b[43m,\u001b[49m\u001b[43m \u001b[49m\u001b[43maxis\u001b[49m\u001b[43m,\u001b[49m\u001b[43m \u001b[49m\u001b[43mlevel\u001b[49m\u001b[38;5;241;43m=\u001b[39;49m\u001b[43mlevel\u001b[49m\u001b[43m,\u001b[49m\u001b[43m \u001b[49m\u001b[43merrors\u001b[49m\u001b[38;5;241;43m=\u001b[39;49m\u001b[43merrors\u001b[49m\u001b[43m)\u001b[49m\n\u001b[1;32m   4790\u001b[0m \u001b[38;5;28;01mif\u001b[39;00m inplace:\n\u001b[1;32m   4791\u001b[0m     \u001b[38;5;28mself\u001b[39m\u001b[38;5;241m.\u001b[39m_update_inplace(obj)\n",
      "File \u001b[0;32m~/Documents/Projects/Developments/NarrativeLens/NarrativeLens/lib/python3.10/site-packages/pandas/core/generic.py:4830\u001b[0m, in \u001b[0;36mNDFrame._drop_axis\u001b[0;34m(self, labels, axis, level, errors, only_slice)\u001b[0m\n\u001b[1;32m   4828\u001b[0m         new_axis \u001b[38;5;241m=\u001b[39m axis\u001b[38;5;241m.\u001b[39mdrop(labels, level\u001b[38;5;241m=\u001b[39mlevel, errors\u001b[38;5;241m=\u001b[39merrors)\n\u001b[1;32m   4829\u001b[0m     \u001b[38;5;28;01melse\u001b[39;00m:\n\u001b[0;32m-> 4830\u001b[0m         new_axis \u001b[38;5;241m=\u001b[39m \u001b[43maxis\u001b[49m\u001b[38;5;241;43m.\u001b[39;49m\u001b[43mdrop\u001b[49m\u001b[43m(\u001b[49m\u001b[43mlabels\u001b[49m\u001b[43m,\u001b[49m\u001b[43m \u001b[49m\u001b[43merrors\u001b[49m\u001b[38;5;241;43m=\u001b[39;49m\u001b[43merrors\u001b[49m\u001b[43m)\u001b[49m\n\u001b[1;32m   4831\u001b[0m     indexer \u001b[38;5;241m=\u001b[39m axis\u001b[38;5;241m.\u001b[39mget_indexer(new_axis)\n\u001b[1;32m   4833\u001b[0m \u001b[38;5;66;03m# Case for non-unique axis\u001b[39;00m\n\u001b[1;32m   4834\u001b[0m \u001b[38;5;28;01melse\u001b[39;00m:\n",
      "File \u001b[0;32m~/Documents/Projects/Developments/NarrativeLens/NarrativeLens/lib/python3.10/site-packages/pandas/core/indexes/base.py:7070\u001b[0m, in \u001b[0;36mIndex.drop\u001b[0;34m(self, labels, errors)\u001b[0m\n\u001b[1;32m   7068\u001b[0m \u001b[38;5;28;01mif\u001b[39;00m mask\u001b[38;5;241m.\u001b[39many():\n\u001b[1;32m   7069\u001b[0m     \u001b[38;5;28;01mif\u001b[39;00m errors \u001b[38;5;241m!=\u001b[39m \u001b[38;5;124m\"\u001b[39m\u001b[38;5;124mignore\u001b[39m\u001b[38;5;124m\"\u001b[39m:\n\u001b[0;32m-> 7070\u001b[0m         \u001b[38;5;28;01mraise\u001b[39;00m \u001b[38;5;167;01mKeyError\u001b[39;00m(\u001b[38;5;124mf\u001b[39m\u001b[38;5;124m\"\u001b[39m\u001b[38;5;132;01m{\u001b[39;00mlabels[mask]\u001b[38;5;241m.\u001b[39mtolist()\u001b[38;5;132;01m}\u001b[39;00m\u001b[38;5;124m not found in axis\u001b[39m\u001b[38;5;124m\"\u001b[39m)\n\u001b[1;32m   7071\u001b[0m     indexer \u001b[38;5;241m=\u001b[39m indexer[\u001b[38;5;241m~\u001b[39mmask]\n\u001b[1;32m   7072\u001b[0m \u001b[38;5;28;01mreturn\u001b[39;00m \u001b[38;5;28mself\u001b[39m\u001b[38;5;241m.\u001b[39mdelete(indexer)\n",
      "\u001b[0;31mKeyError\u001b[0m: \"['industry_key', 'objective_key', 'industry_child.id', 'industry_parent.id', 'video_info_video_url.360p', 'video_info_video_url.480p', 'video_info_video_url.540p', 'video_info_video_url.720p', 'video_info_video_url.1080p'] not found in axis\""
     ]
    }
   ],
   "source": [
    "df.drop(columns=['objective_id', 'industry_key', 'objective_key', 'industry_child.id', 'industry_parent.id', 'video_info_video_url.360p', 'video_info_video_url.480p', 'video_info_video_url.540p', 'video_info_video_url.720p', 'video_info_video_url.1080p'], inplace=True)"
   ]
  },
  {
   "cell_type": "code",
   "execution_count": null,
   "id": "7580c997",
   "metadata": {},
   "outputs": [
    {
     "name": "stdout",
     "output_type": "stream",
     "text": [
      "tag\n",
      "2.0    126\n",
      "3.0     95\n",
      "Name: count, dtype: int64\n",
      "tag\n",
      "unknown    361\n",
      "2.0        126\n",
      "3.0         95\n",
      "Name: count, dtype: int64\n"
     ]
    }
   ],
   "source": [
    "#Filling the missing values\n",
    "print(df['tag'].value_counts())\n",
    "\n",
    "#lets fill the missing values with 'unknown'\n",
    "df.fillna({'tag':'unknown'}, inplace=True)\n",
    "\n",
    "print(df['tag'].value_counts())"
   ]
  },
  {
   "cell_type": "code",
   "execution_count": 60,
   "id": "3784d6e3",
   "metadata": {},
   "outputs": [
    {
     "name": "stdout",
     "output_type": "stream",
     "text": [
      "<class 'pandas.core.frame.DataFrame'>\n",
      "RangeIndex: 582 entries, 0 to 581\n",
      "Data columns (total 28 columns):\n",
      " #   Column                                        Non-Null Count  Dtype  \n",
      "---  ------                                        --------------  -----  \n",
      " 0   ad_title                                      582 non-null    object \n",
      " 1   brand_name                                    582 non-null    object \n",
      " 2   cost                                          582 non-null    int64  \n",
      " 3   ctr                                           582 non-null    float64\n",
      " 4   favorite                                      582 non-null    bool   \n",
      " 5   id                                            582 non-null    object \n",
      " 6   is_search                                     582 non-null    bool   \n",
      " 7   like                                          582 non-null    int64  \n",
      " 8   tag                                           582 non-null    object \n",
      " 9   detail_analysis                               582 non-null    object \n",
      " 10  scrap_datetime                                582 non-null    object \n",
      " 11  video_name                                    582 non-null    object \n",
      " 12  video_info_vid                                582 non-null    object \n",
      " 13  video_info_duration                           582 non-null    float64\n",
      " 14  video_info_cover                              582 non-null    object \n",
      " 15  video_info_width                              582 non-null    int64  \n",
      " 16  video_info_height                             582 non-null    int64  \n",
      " 17  industry_child.value                          582 non-null    object \n",
      " 18  industry_parent.value                         582 non-null    object \n",
      " 19  objective_id                                  582 non-null    int64  \n",
      " 20  objective_value                               582 non-null    object \n",
      " 21  creative_features_creative_theme              582 non-null    object \n",
      " 22  creative_features_creative_concept            582 non-null    object \n",
      " 23  creative_features_format_production_style     582 non-null    object \n",
      " 24  creative_features_talent_type                 582 non-null    object \n",
      " 25  creative_features_demographic_representation  582 non-null    object \n",
      " 26  creative_features_audience_focus              582 non-null    object \n",
      " 27  creative_features_campaign_objective          582 non-null    object \n",
      "dtypes: bool(2), float64(2), int64(5), object(19)\n",
      "memory usage: 119.5+ KB\n"
     ]
    }
   ],
   "source": [
    "df.info()"
   ]
  },
  {
   "cell_type": "markdown",
   "id": "9d894090",
   "metadata": {},
   "source": [
    "## EDA"
   ]
  },
  {
   "cell_type": "code",
   "execution_count": 57,
   "id": "c305a5f2",
   "metadata": {},
   "outputs": [
    {
     "name": "stderr",
     "output_type": "stream",
     "text": [
      "/Users/camilojaureguiberry/Documents/Projects/Developments/NarrativeLens/NarrativeLens/lib/python3.10/site-packages/tqdm/auto.py:21: TqdmWarning: IProgress not found. Please update jupyter and ipywidgets. See https://ipywidgets.readthedocs.io/en/stable/user_install.html\n",
      "  from .autonotebook import tqdm as notebook_tqdm\n"
     ]
    },
    {
     "data": {
      "text/html": [
       "\n",
       "            <div>\n",
       "                <ins><a href=\"https://ydata.ai/register\">Upgrade to ydata-sdk</a></ins>\n",
       "                <p>\n",
       "                    Improve your data and profiling with ydata-sdk, featuring data quality scoring, redundancy detection, outlier identification, text validation, and synthetic data generation.\n",
       "                </p>\n",
       "            </div>\n",
       "            "
      ],
      "text/plain": [
       "<IPython.core.display.HTML object>"
      ]
     },
     "metadata": {},
     "output_type": "display_data"
    }
   ],
   "source": [
    "from ydata_profiling import ProfileReport"
   ]
  },
  {
   "cell_type": "code",
   "execution_count": 58,
   "id": "694bfb5f",
   "metadata": {},
   "outputs": [
    {
     "name": "stderr",
     "output_type": "stream",
     "text": [
      "100%|██████████| 28/28 [00:00<00:00, 118.69it/s]<00:00, 55.68it/s, Describe variable: creative_features_campaign_objective]        \n",
      "Summarize dataset: 100%|██████████| 73/73 [00:22<00:00,  3.19it/s, Completed]                                              \n",
      "Generate report structure: 100%|██████████| 1/1 [00:04<00:00,  4.69s/it]\n",
      "Render HTML: 100%|██████████| 1/1 [00:04<00:00,  4.14s/it]\n",
      "Export report to file: 100%|██████████| 1/1 [00:00<00:00, 56.90it/s]\n"
     ]
    }
   ],
   "source": [
    "report = ProfileReport(df, title=\"Quick EDA Report\", explorative=True)\n",
    "report.to_file(\"report.html\")"
   ]
  },
  {
   "cell_type": "code",
   "execution_count": 63,
   "id": "a482fd1d",
   "metadata": {},
   "outputs": [
    {
     "ename": "OSError",
     "evalue": "Cannot save file into a non-existent directory: 'src/modeling'",
     "output_type": "error",
     "traceback": [
      "\u001b[0;31m---------------------------------------------------------------------------\u001b[0m",
      "\u001b[0;31mOSError\u001b[0m                                   Traceback (most recent call last)",
      "Cell \u001b[0;32mIn[63], line 2\u001b[0m\n\u001b[1;32m      1\u001b[0m \u001b[38;5;66;03m#Export the DataFrame to a CSV file\u001b[39;00m\n\u001b[0;32m----> 2\u001b[0m \u001b[43mdf\u001b[49m\u001b[38;5;241;43m.\u001b[39;49m\u001b[43mto_csv\u001b[49m\u001b[43m(\u001b[49m\u001b[38;5;124;43m'\u001b[39;49m\u001b[38;5;124;43msrc/modeling/tiktok_ads_us_toplikes.csv\u001b[39;49m\u001b[38;5;124;43m'\u001b[39;49m\u001b[43m,\u001b[49m\u001b[43m \u001b[49m\u001b[43mindex\u001b[49m\u001b[38;5;241;43m=\u001b[39;49m\u001b[38;5;28;43;01mFalse\u001b[39;49;00m\u001b[43m)\u001b[49m\n",
      "File \u001b[0;32m~/Documents/Projects/Developments/NarrativeLens/NarrativeLens/lib/python3.10/site-packages/pandas/util/_decorators.py:333\u001b[0m, in \u001b[0;36mdeprecate_nonkeyword_arguments.<locals>.decorate.<locals>.wrapper\u001b[0;34m(*args, **kwargs)\u001b[0m\n\u001b[1;32m    327\u001b[0m \u001b[38;5;28;01mif\u001b[39;00m \u001b[38;5;28mlen\u001b[39m(args) \u001b[38;5;241m>\u001b[39m num_allow_args:\n\u001b[1;32m    328\u001b[0m     warnings\u001b[38;5;241m.\u001b[39mwarn(\n\u001b[1;32m    329\u001b[0m         msg\u001b[38;5;241m.\u001b[39mformat(arguments\u001b[38;5;241m=\u001b[39m_format_argument_list(allow_args)),\n\u001b[1;32m    330\u001b[0m         \u001b[38;5;167;01mFutureWarning\u001b[39;00m,\n\u001b[1;32m    331\u001b[0m         stacklevel\u001b[38;5;241m=\u001b[39mfind_stack_level(),\n\u001b[1;32m    332\u001b[0m     )\n\u001b[0;32m--> 333\u001b[0m \u001b[38;5;28;01mreturn\u001b[39;00m \u001b[43mfunc\u001b[49m\u001b[43m(\u001b[49m\u001b[38;5;241;43m*\u001b[39;49m\u001b[43margs\u001b[49m\u001b[43m,\u001b[49m\u001b[43m \u001b[49m\u001b[38;5;241;43m*\u001b[39;49m\u001b[38;5;241;43m*\u001b[39;49m\u001b[43mkwargs\u001b[49m\u001b[43m)\u001b[49m\n",
      "File \u001b[0;32m~/Documents/Projects/Developments/NarrativeLens/NarrativeLens/lib/python3.10/site-packages/pandas/core/generic.py:3967\u001b[0m, in \u001b[0;36mNDFrame.to_csv\u001b[0;34m(self, path_or_buf, sep, na_rep, float_format, columns, header, index, index_label, mode, encoding, compression, quoting, quotechar, lineterminator, chunksize, date_format, doublequote, escapechar, decimal, errors, storage_options)\u001b[0m\n\u001b[1;32m   3956\u001b[0m df \u001b[38;5;241m=\u001b[39m \u001b[38;5;28mself\u001b[39m \u001b[38;5;28;01mif\u001b[39;00m \u001b[38;5;28misinstance\u001b[39m(\u001b[38;5;28mself\u001b[39m, ABCDataFrame) \u001b[38;5;28;01melse\u001b[39;00m \u001b[38;5;28mself\u001b[39m\u001b[38;5;241m.\u001b[39mto_frame()\n\u001b[1;32m   3958\u001b[0m formatter \u001b[38;5;241m=\u001b[39m DataFrameFormatter(\n\u001b[1;32m   3959\u001b[0m     frame\u001b[38;5;241m=\u001b[39mdf,\n\u001b[1;32m   3960\u001b[0m     header\u001b[38;5;241m=\u001b[39mheader,\n\u001b[0;32m   (...)\u001b[0m\n\u001b[1;32m   3964\u001b[0m     decimal\u001b[38;5;241m=\u001b[39mdecimal,\n\u001b[1;32m   3965\u001b[0m )\n\u001b[0;32m-> 3967\u001b[0m \u001b[38;5;28;01mreturn\u001b[39;00m \u001b[43mDataFrameRenderer\u001b[49m\u001b[43m(\u001b[49m\u001b[43mformatter\u001b[49m\u001b[43m)\u001b[49m\u001b[38;5;241;43m.\u001b[39;49m\u001b[43mto_csv\u001b[49m\u001b[43m(\u001b[49m\n\u001b[1;32m   3968\u001b[0m \u001b[43m    \u001b[49m\u001b[43mpath_or_buf\u001b[49m\u001b[43m,\u001b[49m\n\u001b[1;32m   3969\u001b[0m \u001b[43m    \u001b[49m\u001b[43mlineterminator\u001b[49m\u001b[38;5;241;43m=\u001b[39;49m\u001b[43mlineterminator\u001b[49m\u001b[43m,\u001b[49m\n\u001b[1;32m   3970\u001b[0m \u001b[43m    \u001b[49m\u001b[43msep\u001b[49m\u001b[38;5;241;43m=\u001b[39;49m\u001b[43msep\u001b[49m\u001b[43m,\u001b[49m\n\u001b[1;32m   3971\u001b[0m \u001b[43m    \u001b[49m\u001b[43mencoding\u001b[49m\u001b[38;5;241;43m=\u001b[39;49m\u001b[43mencoding\u001b[49m\u001b[43m,\u001b[49m\n\u001b[1;32m   3972\u001b[0m \u001b[43m    \u001b[49m\u001b[43merrors\u001b[49m\u001b[38;5;241;43m=\u001b[39;49m\u001b[43merrors\u001b[49m\u001b[43m,\u001b[49m\n\u001b[1;32m   3973\u001b[0m \u001b[43m    \u001b[49m\u001b[43mcompression\u001b[49m\u001b[38;5;241;43m=\u001b[39;49m\u001b[43mcompression\u001b[49m\u001b[43m,\u001b[49m\n\u001b[1;32m   3974\u001b[0m \u001b[43m    \u001b[49m\u001b[43mquoting\u001b[49m\u001b[38;5;241;43m=\u001b[39;49m\u001b[43mquoting\u001b[49m\u001b[43m,\u001b[49m\n\u001b[1;32m   3975\u001b[0m \u001b[43m    \u001b[49m\u001b[43mcolumns\u001b[49m\u001b[38;5;241;43m=\u001b[39;49m\u001b[43mcolumns\u001b[49m\u001b[43m,\u001b[49m\n\u001b[1;32m   3976\u001b[0m \u001b[43m    \u001b[49m\u001b[43mindex_label\u001b[49m\u001b[38;5;241;43m=\u001b[39;49m\u001b[43mindex_label\u001b[49m\u001b[43m,\u001b[49m\n\u001b[1;32m   3977\u001b[0m \u001b[43m    \u001b[49m\u001b[43mmode\u001b[49m\u001b[38;5;241;43m=\u001b[39;49m\u001b[43mmode\u001b[49m\u001b[43m,\u001b[49m\n\u001b[1;32m   3978\u001b[0m \u001b[43m    \u001b[49m\u001b[43mchunksize\u001b[49m\u001b[38;5;241;43m=\u001b[39;49m\u001b[43mchunksize\u001b[49m\u001b[43m,\u001b[49m\n\u001b[1;32m   3979\u001b[0m \u001b[43m    \u001b[49m\u001b[43mquotechar\u001b[49m\u001b[38;5;241;43m=\u001b[39;49m\u001b[43mquotechar\u001b[49m\u001b[43m,\u001b[49m\n\u001b[1;32m   3980\u001b[0m \u001b[43m    \u001b[49m\u001b[43mdate_format\u001b[49m\u001b[38;5;241;43m=\u001b[39;49m\u001b[43mdate_format\u001b[49m\u001b[43m,\u001b[49m\n\u001b[1;32m   3981\u001b[0m \u001b[43m    \u001b[49m\u001b[43mdoublequote\u001b[49m\u001b[38;5;241;43m=\u001b[39;49m\u001b[43mdoublequote\u001b[49m\u001b[43m,\u001b[49m\n\u001b[1;32m   3982\u001b[0m \u001b[43m    \u001b[49m\u001b[43mescapechar\u001b[49m\u001b[38;5;241;43m=\u001b[39;49m\u001b[43mescapechar\u001b[49m\u001b[43m,\u001b[49m\n\u001b[1;32m   3983\u001b[0m \u001b[43m    \u001b[49m\u001b[43mstorage_options\u001b[49m\u001b[38;5;241;43m=\u001b[39;49m\u001b[43mstorage_options\u001b[49m\u001b[43m,\u001b[49m\n\u001b[1;32m   3984\u001b[0m \u001b[43m\u001b[49m\u001b[43m)\u001b[49m\n",
      "File \u001b[0;32m~/Documents/Projects/Developments/NarrativeLens/NarrativeLens/lib/python3.10/site-packages/pandas/io/formats/format.py:1014\u001b[0m, in \u001b[0;36mDataFrameRenderer.to_csv\u001b[0;34m(self, path_or_buf, encoding, sep, columns, index_label, mode, compression, quoting, quotechar, lineterminator, chunksize, date_format, doublequote, escapechar, errors, storage_options)\u001b[0m\n\u001b[1;32m    993\u001b[0m     created_buffer \u001b[38;5;241m=\u001b[39m \u001b[38;5;28;01mFalse\u001b[39;00m\n\u001b[1;32m    995\u001b[0m csv_formatter \u001b[38;5;241m=\u001b[39m CSVFormatter(\n\u001b[1;32m    996\u001b[0m     path_or_buf\u001b[38;5;241m=\u001b[39mpath_or_buf,\n\u001b[1;32m    997\u001b[0m     lineterminator\u001b[38;5;241m=\u001b[39mlineterminator,\n\u001b[0;32m   (...)\u001b[0m\n\u001b[1;32m   1012\u001b[0m     formatter\u001b[38;5;241m=\u001b[39m\u001b[38;5;28mself\u001b[39m\u001b[38;5;241m.\u001b[39mfmt,\n\u001b[1;32m   1013\u001b[0m )\n\u001b[0;32m-> 1014\u001b[0m \u001b[43mcsv_formatter\u001b[49m\u001b[38;5;241;43m.\u001b[39;49m\u001b[43msave\u001b[49m\u001b[43m(\u001b[49m\u001b[43m)\u001b[49m\n\u001b[1;32m   1016\u001b[0m \u001b[38;5;28;01mif\u001b[39;00m created_buffer:\n\u001b[1;32m   1017\u001b[0m     \u001b[38;5;28;01massert\u001b[39;00m \u001b[38;5;28misinstance\u001b[39m(path_or_buf, StringIO)\n",
      "File \u001b[0;32m~/Documents/Projects/Developments/NarrativeLens/NarrativeLens/lib/python3.10/site-packages/pandas/io/formats/csvs.py:251\u001b[0m, in \u001b[0;36mCSVFormatter.save\u001b[0;34m(self)\u001b[0m\n\u001b[1;32m    247\u001b[0m \u001b[38;5;250m\u001b[39m\u001b[38;5;124;03m\"\"\"\u001b[39;00m\n\u001b[1;32m    248\u001b[0m \u001b[38;5;124;03mCreate the writer & save.\u001b[39;00m\n\u001b[1;32m    249\u001b[0m \u001b[38;5;124;03m\"\"\"\u001b[39;00m\n\u001b[1;32m    250\u001b[0m \u001b[38;5;66;03m# apply compression and byte/text conversion\u001b[39;00m\n\u001b[0;32m--> 251\u001b[0m \u001b[38;5;28;01mwith\u001b[39;00m \u001b[43mget_handle\u001b[49m\u001b[43m(\u001b[49m\n\u001b[1;32m    252\u001b[0m \u001b[43m    \u001b[49m\u001b[38;5;28;43mself\u001b[39;49m\u001b[38;5;241;43m.\u001b[39;49m\u001b[43mfilepath_or_buffer\u001b[49m\u001b[43m,\u001b[49m\n\u001b[1;32m    253\u001b[0m \u001b[43m    \u001b[49m\u001b[38;5;28;43mself\u001b[39;49m\u001b[38;5;241;43m.\u001b[39;49m\u001b[43mmode\u001b[49m\u001b[43m,\u001b[49m\n\u001b[1;32m    254\u001b[0m \u001b[43m    \u001b[49m\u001b[43mencoding\u001b[49m\u001b[38;5;241;43m=\u001b[39;49m\u001b[38;5;28;43mself\u001b[39;49m\u001b[38;5;241;43m.\u001b[39;49m\u001b[43mencoding\u001b[49m\u001b[43m,\u001b[49m\n\u001b[1;32m    255\u001b[0m \u001b[43m    \u001b[49m\u001b[43merrors\u001b[49m\u001b[38;5;241;43m=\u001b[39;49m\u001b[38;5;28;43mself\u001b[39;49m\u001b[38;5;241;43m.\u001b[39;49m\u001b[43merrors\u001b[49m\u001b[43m,\u001b[49m\n\u001b[1;32m    256\u001b[0m \u001b[43m    \u001b[49m\u001b[43mcompression\u001b[49m\u001b[38;5;241;43m=\u001b[39;49m\u001b[38;5;28;43mself\u001b[39;49m\u001b[38;5;241;43m.\u001b[39;49m\u001b[43mcompression\u001b[49m\u001b[43m,\u001b[49m\n\u001b[1;32m    257\u001b[0m \u001b[43m    \u001b[49m\u001b[43mstorage_options\u001b[49m\u001b[38;5;241;43m=\u001b[39;49m\u001b[38;5;28;43mself\u001b[39;49m\u001b[38;5;241;43m.\u001b[39;49m\u001b[43mstorage_options\u001b[49m\u001b[43m,\u001b[49m\n\u001b[1;32m    258\u001b[0m \u001b[43m\u001b[49m\u001b[43m)\u001b[49m \u001b[38;5;28;01mas\u001b[39;00m handles:\n\u001b[1;32m    259\u001b[0m     \u001b[38;5;66;03m# Note: self.encoding is irrelevant here\u001b[39;00m\n\u001b[1;32m    260\u001b[0m     \u001b[38;5;28mself\u001b[39m\u001b[38;5;241m.\u001b[39mwriter \u001b[38;5;241m=\u001b[39m csvlib\u001b[38;5;241m.\u001b[39mwriter(\n\u001b[1;32m    261\u001b[0m         handles\u001b[38;5;241m.\u001b[39mhandle,\n\u001b[1;32m    262\u001b[0m         lineterminator\u001b[38;5;241m=\u001b[39m\u001b[38;5;28mself\u001b[39m\u001b[38;5;241m.\u001b[39mlineterminator,\n\u001b[0;32m   (...)\u001b[0m\n\u001b[1;32m    267\u001b[0m         quotechar\u001b[38;5;241m=\u001b[39m\u001b[38;5;28mself\u001b[39m\u001b[38;5;241m.\u001b[39mquotechar,\n\u001b[1;32m    268\u001b[0m     )\n\u001b[1;32m    270\u001b[0m     \u001b[38;5;28mself\u001b[39m\u001b[38;5;241m.\u001b[39m_save()\n",
      "File \u001b[0;32m~/Documents/Projects/Developments/NarrativeLens/NarrativeLens/lib/python3.10/site-packages/pandas/io/common.py:749\u001b[0m, in \u001b[0;36mget_handle\u001b[0;34m(path_or_buf, mode, encoding, compression, memory_map, is_text, errors, storage_options)\u001b[0m\n\u001b[1;32m    747\u001b[0m \u001b[38;5;66;03m# Only for write methods\u001b[39;00m\n\u001b[1;32m    748\u001b[0m \u001b[38;5;28;01mif\u001b[39;00m \u001b[38;5;124m\"\u001b[39m\u001b[38;5;124mr\u001b[39m\u001b[38;5;124m\"\u001b[39m \u001b[38;5;129;01mnot\u001b[39;00m \u001b[38;5;129;01min\u001b[39;00m mode \u001b[38;5;129;01mand\u001b[39;00m is_path:\n\u001b[0;32m--> 749\u001b[0m     \u001b[43mcheck_parent_directory\u001b[49m\u001b[43m(\u001b[49m\u001b[38;5;28;43mstr\u001b[39;49m\u001b[43m(\u001b[49m\u001b[43mhandle\u001b[49m\u001b[43m)\u001b[49m\u001b[43m)\u001b[49m\n\u001b[1;32m    751\u001b[0m \u001b[38;5;28;01mif\u001b[39;00m compression:\n\u001b[1;32m    752\u001b[0m     \u001b[38;5;28;01mif\u001b[39;00m compression \u001b[38;5;241m!=\u001b[39m \u001b[38;5;124m\"\u001b[39m\u001b[38;5;124mzstd\u001b[39m\u001b[38;5;124m\"\u001b[39m:\n\u001b[1;32m    753\u001b[0m         \u001b[38;5;66;03m# compression libraries do not like an explicit text-mode\u001b[39;00m\n",
      "File \u001b[0;32m~/Documents/Projects/Developments/NarrativeLens/NarrativeLens/lib/python3.10/site-packages/pandas/io/common.py:616\u001b[0m, in \u001b[0;36mcheck_parent_directory\u001b[0;34m(path)\u001b[0m\n\u001b[1;32m    614\u001b[0m parent \u001b[38;5;241m=\u001b[39m Path(path)\u001b[38;5;241m.\u001b[39mparent\n\u001b[1;32m    615\u001b[0m \u001b[38;5;28;01mif\u001b[39;00m \u001b[38;5;129;01mnot\u001b[39;00m parent\u001b[38;5;241m.\u001b[39mis_dir():\n\u001b[0;32m--> 616\u001b[0m     \u001b[38;5;28;01mraise\u001b[39;00m \u001b[38;5;167;01mOSError\u001b[39;00m(\u001b[38;5;124mrf\u001b[39m\u001b[38;5;124m\"\u001b[39m\u001b[38;5;124mCannot save file into a non-existent directory: \u001b[39m\u001b[38;5;124m'\u001b[39m\u001b[38;5;132;01m{\u001b[39;00mparent\u001b[38;5;132;01m}\u001b[39;00m\u001b[38;5;124m'\u001b[39m\u001b[38;5;124m\"\u001b[39m)\n",
      "\u001b[0;31mOSError\u001b[0m: Cannot save file into a non-existent directory: 'src/modeling'"
     ]
    }
   ],
   "source": [
    "#Export the DataFrame to a CSV file\n",
    "df.to_csv('src/modeling/tiktok_ads_us_toplikes.csv', index=False)"
   ]
  },
  {
   "cell_type": "code",
   "execution_count": null,
   "id": "7a04cd0d",
   "metadata": {},
   "outputs": [],
   "source": []
  }
 ],
 "metadata": {
  "kernelspec": {
   "display_name": "NarrativeLens",
   "language": "python",
   "name": "python3"
  },
  "language_info": {
   "codemirror_mode": {
    "name": "ipython",
    "version": 3
   },
   "file_extension": ".py",
   "mimetype": "text/x-python",
   "name": "python",
   "nbconvert_exporter": "python",
   "pygments_lexer": "ipython3",
   "version": "3.10.13"
  }
 },
 "nbformat": 4,
 "nbformat_minor": 5
}
