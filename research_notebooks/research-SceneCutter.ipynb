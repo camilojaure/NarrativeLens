{
 "cells": [
  {
   "cell_type": "code",
   "execution_count": 1,
   "metadata": {},
   "outputs": [
    {
     "name": "stderr",
     "output_type": "stream",
     "text": [
      "/Users/camilojaureguiberry/Documents/Projects/Developments/NarrativeLens/NarrativeLens/lib/python3.10/site-packages/tqdm/auto.py:21: TqdmWarning: IProgress not found. Please update jupyter and ipywidgets. See https://ipywidgets.readthedocs.io/en/stable/user_install.html\n",
      "  from .autonotebook import tqdm as notebook_tqdm\n"
     ]
    }
   ],
   "source": [
    "# Import PySceneDetect\n",
    "from scenedetect import VideoManager, SceneManager\n",
    "from scenedetect.detectors import ContentDetector\n",
    "from scenedetect.video_splitter import split_video_ffmpeg\n",
    "import os"
   ]
  },
  {
   "cell_type": "code",
   "execution_count": 2,
   "metadata": {},
   "outputs": [
    {
     "name": "stderr",
     "output_type": "stream",
     "text": [
      "VideoManager is deprecated and will be removed.\n"
     ]
    },
    {
     "data": {
      "text/plain": [
       "796"
      ]
     },
     "execution_count": 2,
     "metadata": {},
     "output_type": "execute_result"
    }
   ],
   "source": [
    "# Example video path\n",
    "video_path = \"/Users/camilojaureguiberry/Documents/Projects/Developments/NarrativeLens/data/pedidos_ya_130125.mp4\"\n",
    "\n",
    "# Create a VideoManager and SceneManager\n",
    "video_manager = VideoManager([video_path])\n",
    "scene_manager = SceneManager()\n",
    "\n",
    "# Add a ContentDetector with a threshold.\n",
    "# The threshold value determines sensitivity to scene changes:\n",
    "#   - Higher threshold --> fewer scenes\n",
    "#   - Lower threshold --> more scenes\n",
    "scene_manager.add_detector(ContentDetector(threshold=30.0))\n",
    "\n",
    "# Start the video manager & perform scene detection\n",
    "video_manager.set_downscale_factor()  # For faster processing\n",
    "video_manager.start()\n",
    "\n",
    "scene_manager.detect_scenes(frame_source=video_manager)"
   ]
  },
  {
   "cell_type": "code",
   "execution_count": 3,
   "metadata": {},
   "outputs": [
    {
     "name": "stdout",
     "output_type": "stream",
     "text": [
      "Scene 1: Start 00:00:00.000, End: 00:00:07.960\n",
      "Scene 2: Start 00:00:07.960, End: 00:00:13.200\n",
      "Scene 3: Start 00:00:13.200, End: 00:00:20.160\n",
      "Scene 4: Start 00:00:20.160, End: 00:00:22.000\n",
      "Scene 5: Start 00:00:22.000, End: 00:00:31.840\n"
     ]
    }
   ],
   "source": [
    "# Obtain list of detected scenes\n",
    "scene_list = scene_manager.get_scene_list()\n",
    "\n",
    "# Print out start/end timecodes for each scene\n",
    "for i, scene in enumerate(scene_list):\n",
    "    start_time = scene[0].get_timecode()\n",
    "    end_time = scene[1].get_timecode()\n",
    "    print(f\"Scene {i+1}: Start {start_time}, End: {end_time}\")\n"
   ]
  },
  {
   "cell_type": "code",
   "execution_count": 5,
   "metadata": {},
   "outputs": [
    {
     "name": "stderr",
     "output_type": "stream",
     "text": [
      "Using a list of paths is deprecated. Pass a single path instead.\n"
     ]
    },
    {
     "name": "stdout",
     "output_type": "stream",
     "text": [
      "Scene clips saved in /Users/camilojaureguiberry/Documents/Projects/Developments/NarrativeLens/data/output\n"
     ]
    }
   ],
   "source": [
    "#Save the generated clips\n",
    "output_directory = \"/Users/camilojaureguiberry/Documents/Projects/Developments/NarrativeLens/data/output\"\n",
    "os.makedirs(output_directory, exist_ok=True)\n",
    "\n",
    "# Use split_video_ffmpeg to create individual video clips\n",
    "split_video_ffmpeg(\n",
    "    [video_path],\n",
    "    scene_list,\n",
    "    output_file_template=os.path.join(output_directory, \"scene_${SCENE_NUMBER}.mp4\"),\n",
    "    video_name=os.path.splitext(os.path.basename(video_path))[0]\n",
    ")\n",
    "\n",
    "print(f\"Scene clips saved in {output_directory}\")"
   ]
  },
  {
   "cell_type": "code",
   "execution_count": null,
   "metadata": {},
   "outputs": [],
   "source": [
    "# Cleanup\n",
    "video_manager.release()"
   ]
  }
 ],
 "metadata": {
  "kernelspec": {
   "display_name": "NarrativeLens",
   "language": "python",
   "name": "python3"
  },
  "language_info": {
   "codemirror_mode": {
    "name": "ipython",
    "version": 3
   },
   "file_extension": ".py",
   "mimetype": "text/x-python",
   "name": "python",
   "nbconvert_exporter": "python",
   "pygments_lexer": "ipython3",
   "version": "3.10.13"
  }
 },
 "nbformat": 4,
 "nbformat_minor": 2
}
